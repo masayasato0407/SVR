{
 "cells": [
  {
   "cell_type": "code",
   "execution_count": null,
   "id": "fb1f3293",
   "metadata": {},
   "outputs": [],
   "source": [
    "import streamlit as st\n",
    "import sksurv\n",
    "from sksurv.linear_model import CoxPHSurvivalAnalysis\n",
    "from sksurv.linear_model.coxph import BreslowEstimator\n",
    "import pandas as pd\n",
    "import matplotlib.pyplot as plt\n",
    "import numpy as np\n",
    "from sksurv.ensemble import RandomSurvivalForest\n",
    "import pickle"
   ]
  },
  {
   "cell_type": "code",
   "execution_count": null,
   "id": "6f6bc5b2",
   "metadata": {},
   "outputs": [],
   "source": [
    "rsf = pickle.load(open(\"rfmodel.sav\", 'rb'))"
   ]
  },
  {
   "cell_type": "code",
   "execution_count": 6,
   "id": "98275ea9",
   "metadata": {},
   "outputs": [
    {
     "name": "stderr",
     "output_type": "stream",
     "text": [
      "2022-02-21 17:36:02.244 \n",
      "  \u001b[33m\u001b[1mWarning:\u001b[0m to view this Streamlit app on a browser, run it with the following\n",
      "  command:\n",
      "\n",
      "    streamlit run C:\\Users\\masayasato\\Anaconda3\\envs\\Sksurv_streamlit20220209\\lib\\site-packages\\ipykernel_launcher.py [ARGUMENTS]\n"
     ]
    },
    {
     "data": {
      "text/plain": [
       "DeltaGenerator(_root_container=0, _provided_cursor=None, _parent=None, _block_type=None, _form_data=None)"
      ]
     },
     "execution_count": 6,
     "metadata": {},
     "output_type": "execute_result"
    }
   ],
   "source": [
    "st.title('Prediction model for post-SVR HCC (SMART model)') "
   ]
  },
  {
   "cell_type": "code",
   "execution_count": 9,
   "id": "40b37f3e",
   "metadata": {},
   "outputs": [
    {
     "data": {
      "text/plain": [
       "DeltaGenerator(_root_container=0, _provided_cursor=None, _parent=None, _block_type=None, _form_data=None)"
      ]
     },
     "execution_count": 9,
     "metadata": {},
     "output_type": "execute_result"
    }
   ],
   "source": [
    "st.markdown(\"Enter the following items to display the predicted HCC risk\")"
   ]
  },
  {
   "cell_type": "code",
   "execution_count": 10,
   "id": "c425051b",
   "metadata": {},
   "outputs": [],
   "source": [
    "with st.form('user_inputs'): \n",
    "  gender = st.selectbox('gender', options=['female', 'male']) \n",
    "  age=st.slider(\"age\", 0, 100, 50, 1)\n",
    "  BMI=st.slider(\"BMI\", 0.0, 50.0, 25.0, 0.1)\n",
    "  alc60 = st.selectbox('Daily alcoholic consumption', options=['Less than 60g', '60g or more']) \n",
    "  PLT=st.slider(\"Platelet count (×10^4/µL)\", 0.0, 100.0, 20.0, 0.1)\n",
    "  AFP=st.slider(\"AFP (ng/mL)\", 0.0, 50.0, 5.0, 0.1) \n",
    "  ALB=st.slider(\"Albumin (g/dL)\", 0.0, 10.0, 4.0, 0.1)\n",
    "  TBil=st.slider(\"Total bilirubin (mg/dL)\", 0.0, 10.0, 1.0, 0.1)\n",
    "  AST=st.slider(\"AST (IU/L)\", 0, 300, 50, 1)\n",
    "  ALT=st.slider(\"ALT (IU/L)\", 0, 300, 50, 1)\n",
    "  GGT=st.slider(\"GGT (IU/L)\", 0, 1000, 50, 1)\n",
    "  DM= st.selectbox('Diabetes', options=['absent', 'present']) \n",
    "  st.form_submit_button() "
   ]
  },
  {
   "cell_type": "code",
   "execution_count": 11,
   "id": "72540d02",
   "metadata": {},
   "outputs": [],
   "source": [
    "if gender == 'male': \n",
    "  gender = 1\n",
    "\n",
    "elif gender == 'female':\n",
    "  gender = 0 "
   ]
  },
  {
   "cell_type": "code",
   "execution_count": 12,
   "id": "b3d163a4",
   "metadata": {},
   "outputs": [],
   "source": [
    "if alc60 == '60g or more': \n",
    "  alc60 = 1 \n",
    "\n",
    "elif alc60 == 'Less than 60g': \n",
    "  alc60 = 0 "
   ]
  },
  {
   "cell_type": "code",
   "execution_count": 13,
   "id": "f67dff3e",
   "metadata": {},
   "outputs": [],
   "source": [
    "if DM == 'present': \n",
    "  DM = 1 \n",
    "\n",
    "elif DM == 'absent': \n",
    "  DM = 0 "
   ]
  },
  {
   "cell_type": "code",
   "execution_count": 48,
   "id": "af99de80",
   "metadata": {},
   "outputs": [
    {
     "data": {
      "image/png": "[encoded data removed]",
      "text/plain": [
       "<Figure size 432x288 with 1 Axes>"
      ]
     },
     "metadata": {
      "needs_background": "light"
     },
     "output_type": "display_data"
    }
   ],
   "source": [
    "surv = rsf.predict_survival_function(pd.DataFrame(\n",
    "    data={'gender': [gender], \n",
    "          'age': [age],\n",
    "          'BMI': [BMI],\n",
    "          'alc60': [alc60],\n",
    "          'PLT': [PLT],\n",
    "          'AFP': [AFP],\n",
    "          'ALB': [ALB],\n",
    "          'TBil': [TBil],\n",
    "          'AST': [AST],\n",
    "          'ALT': [ALT],\n",
    "          'GGT': [GGT],\n",
    "          'DM': [DM]\n",
    "         }\n",
    "), return_array=True)\n",
    "\n",
    "for i, s in enumerate(surv):\n",
    "    plt.step(rsf.event_times_, s, where=\"post\", label=str(i))\n",
    "plt.xlim(0,10)\n",
    "plt.ylim(0,1)\n",
    "plt.ylabel(\"predicted HCC development\")\n",
    "plt.xlabel(\"years\")\n",
    "plt.grid(True)\n",
    "\n",
    "plt.gca().invert_yaxis()\n",
    "\n",
    "plt.yticks([0.0, 0.2, 0.4,0.6,0.8,1.0],\n",
    "            ['100%', '80%', '60%', '40%', '20%', '0%'])\n",
    "plt.savefig(\"img.png\")"
   ]
  },
  {
   "cell_type": "code",
   "execution_count": null,
   "id": "86e16496",
   "metadata": {},
   "outputs": [],
   "source": [
    "st.subheader(\"HCC risk for submitted patient\")"
   ]
  },
  {
   "cell_type": "code",
   "execution_count": null,
   "id": "edc973f7",
   "metadata": {},
   "outputs": [],
   "source": [
    "st.image (\"img.png\")"
   ]
  }
 ],
 "metadata": {
  "kernelspec": {
   "display_name": "Python 3",
   "language": "python",
   "name": "python3"
  },
  "language_info": {
   "codemirror_mode": {
    "name": "ipython",
    "version": 3
   },
   "file_extension": ".py",
   "mimetype": "text/x-python",
   "name": "python",
   "nbconvert_exporter": "python",
   "pygments_lexer": "ipython3",
   "version": "3.8.8"
  }
 },
 "nbformat": 4,
 "nbformat_minor": 5
}
